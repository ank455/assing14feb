{
 "cells": [
  {
   "cell_type": "code",
   "execution_count": null,
   "id": "ad895a55-a5a8-424b-92e0-26740ec47e11",
   "metadata": {},
   "outputs": [],
   "source": [
    "# Ans 1\n",
    "Multithreading is use to run multiple thread concurrently by rapidly switching between cpu and thread\n",
    "\n",
    "Use of multithread - python multithreading enable efficient utilization of the resource as the thread share the data space and memory.\n",
    "\n",
    "Threading module is used to handle module in python.\n"
   ]
  },
  {
   "cell_type": "code",
   "execution_count": null,
   "id": "19c7a53c-7757-4de1-9a09-7160991e23d4",
   "metadata": {},
   "outputs": [],
   "source": [
    "# Ans 2\n",
    "Thread is used to run multiple thread at same time in python.\n",
    "(a) Active.thread() is used to get return the number of thread object that are active.\n",
    "(b) current.thread()is used to get return the number of thread object in the callers's thread control.\n",
    "(c) enumerate() covert a data collection object into a enumerate object."
   ]
  },
  {
   "cell_type": "code",
   "execution_count": null,
   "id": "47c1dc94-74e3-4343-a76a-e055f2a1df01",
   "metadata": {},
   "outputs": [],
   "source": [
    "# Ans 3\n",
    "(a) run() - used to define a thread's activity and can be overridden by a class that extends the threads class.\n",
    "(b) start() - used to initiate the activity of a thread\n",
    "(c) join()- blocking the current thread until the target thread that has been joined has terminated.\n",
    "(d) isAlive() - it uses a thread object and check whether that thread is alive or not /  it is still running or not."
   ]
  },
  {
   "cell_type": "code",
   "execution_count": 24,
   "id": "0ba7838c-dd8a-4a8b-a206-56bf7496a073",
   "metadata": {},
   "outputs": [
    {
     "name": "stdout",
     "output_type": "stream",
     "text": [
      "square0\n",
      "square1\n",
      "square4\n",
      "square9\n",
      "square16\n",
      "square25\n",
      "square36\n",
      "square49\n",
      "square64\n",
      "square81\n",
      "cube0\n",
      "cube1\n",
      "cube8\n",
      "cube27\n",
      "cube64\n",
      "cube125\n",
      "cube216\n",
      "cube343\n",
      "cube512\n",
      "cube729\n"
     ]
    }
   ],
   "source": [
    "# ans 4\n",
    "import threading\n",
    "\n",
    "def print_square(num):\n",
    "    print(\"square{}\".format(num*num))\n",
    "    \n",
    "def print_cube(num):\n",
    "    print(\"cube{}\".format(num*num*num))\n",
    "    \n",
    "if __name__ == \"__main__\":\n",
    "    ank= [threading.Thread(target = print_square , args = (i ,))for i in range(10)]\n",
    "    kum = [threading.Thread(target = print_cube , args = (i ,))for i in range(10)]\n",
    "    \n",
    "   \n",
    "    \n",
    "    \n",
    "for a in ank:\n",
    "    a.start()\n",
    "    \n",
    "for k in kum:\n",
    "    k.start()\n",
    "    \n",
    "    a.join()\n",
    "    k.join()"
   ]
  },
  {
   "cell_type": "code",
   "execution_count": null,
   "id": "448d426a-4704-4961-a312-05ef5ce2489e",
   "metadata": {},
   "outputs": [],
   "source": [
    "# Ans 5 \n",
    "\n",
    "ADVANTAGE OF MULTITHREADING\n",
    "(1) better use pf cpu\n",
    "(2)decreased cost of maintainance\n",
    "(3)enhance performance by decreasing devlopment time\n",
    "\n",
    "DISADVANTAGE OF MULTITHREADING\n",
    "(1)unpredictable result\n",
    "(2)overhead switching of context\n",
    "(3)complex debugging and testing process"
   ]
  },
  {
   "cell_type": "code",
   "execution_count": null,
   "id": "d0921408-2dc8-43cd-a55f-1bd366ad1a50",
   "metadata": {},
   "outputs": [],
   "source": [
    "# Ans 6\n",
    "Dead lock - It exists when two thread seek in one lock simultaneously.\n",
    "\n",
    "Race Condition - it occurs when two thread use same variable  at a given time ."
   ]
  }
 ],
 "metadata": {
  "kernelspec": {
   "display_name": "Python 3 (ipykernel)",
   "language": "python",
   "name": "python3"
  },
  "language_info": {
   "codemirror_mode": {
    "name": "ipython",
    "version": 3
   },
   "file_extension": ".py",
   "mimetype": "text/x-python",
   "name": "python",
   "nbconvert_exporter": "python",
   "pygments_lexer": "ipython3",
   "version": "3.10.8"
  }
 },
 "nbformat": 4,
 "nbformat_minor": 5
}
